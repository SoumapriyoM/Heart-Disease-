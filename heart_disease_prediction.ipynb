{
  "cells": [
    {
      "cell_type": "markdown",
      "metadata": {
        "id": "view-in-github",
        "colab_type": "text"
      },
      "source": [
        "<a href=\"https://colab.research.google.com/github/SoumapriyoM/Heart-Disease-/blob/main/heart_disease_prediction.ipynb\" target=\"_parent\"><img src=\"https://colab.research.google.com/assets/colab-badge.svg\" alt=\"Open In Colab\"/></a>"
      ]
    },
    {
      "cell_type": "markdown",
      "id": "19d0fc68",
      "metadata": {
        "papermill": {
          "duration": 0.015339,
          "end_time": "2021-12-26T14:29:54.007260",
          "exception": false,
          "start_time": "2021-12-26T14:29:53.991921",
          "status": "completed"
        },
        "tags": [],
        "id": "19d0fc68"
      },
      "source": [
        "# **Make Machine Learning Model**"
      ]
    },
    {
      "cell_type": "markdown",
      "id": "3037c588",
      "metadata": {
        "papermill": {
          "duration": 0.015189,
          "end_time": "2021-12-26T14:29:54.037816",
          "exception": false,
          "start_time": "2021-12-26T14:29:54.022627",
          "status": "completed"
        },
        "tags": [],
        "id": "3037c588"
      },
      "source": [
        "## i) Calling Necessary Dependencies"
      ]
    },
    {
      "cell_type": "code",
      "execution_count": null,
      "id": "0525c2c8",
      "metadata": {
        "execution": {
          "iopub.execute_input": "2021-12-26T14:29:54.071831Z",
          "iopub.status.busy": "2021-12-26T14:29:54.071279Z",
          "iopub.status.idle": "2021-12-26T14:29:55.410382Z",
          "shell.execute_reply": "2021-12-26T14:29:55.409957Z",
          "shell.execute_reply.started": "2021-12-26T14:27:45.183502Z"
        },
        "papermill": {
          "duration": 1.357301,
          "end_time": "2021-12-26T14:29:55.410493",
          "exception": false,
          "start_time": "2021-12-26T14:29:54.053192",
          "status": "completed"
        },
        "tags": [],
        "id": "0525c2c8"
      },
      "outputs": [],
      "source": [
        "import pandas as pd\n",
        "import numpy as np\n",
        "from sklearn.svm import SVC\n",
        "from sklearn import svm\n",
        "import pickle\n",
        "from sklearn.model_selection import cross_val_score\n",
        "from sklearn.preprocessing import StandardScaler\n",
        "from sklearn.preprocessing import OrdinalEncoder\n",
        "from sklearn.pipeline import Pipeline\n",
        "from sklearn.compose import ColumnTransformer\n",
        "from sklearn.model_selection import train_test_split"
      ]
    },
    {
      "cell_type": "markdown",
      "id": "6d716ba8",
      "metadata": {
        "papermill": {
          "duration": 0.01524,
          "end_time": "2021-12-26T14:29:55.441644",
          "exception": false,
          "start_time": "2021-12-26T14:29:55.426404",
          "status": "completed"
        },
        "tags": [],
        "id": "6d716ba8"
      },
      "source": [
        "## ii) Creating DataFrame"
      ]
    },
    {
      "cell_type": "code",
      "execution_count": null,
      "id": "e242b036",
      "metadata": {
        "execution": {
          "iopub.execute_input": "2021-12-26T14:29:55.475367Z",
          "iopub.status.busy": "2021-12-26T14:29:55.474859Z",
          "iopub.status.idle": "2021-12-26T14:29:55.495395Z",
          "shell.execute_reply": "2021-12-26T14:29:55.495786Z",
          "shell.execute_reply.started": "2021-12-26T14:27:45.193759Z"
        },
        "papermill": {
          "duration": 0.038968,
          "end_time": "2021-12-26T14:29:55.495923",
          "exception": false,
          "start_time": "2021-12-26T14:29:55.456955",
          "status": "completed"
        },
        "tags": [],
        "id": "e242b036"
      },
      "outputs": [],
      "source": [
        "df=pd.read_csv('heart.csv')"
      ]
    },
    {
      "cell_type": "markdown",
      "id": "2419942a",
      "metadata": {
        "papermill": {
          "duration": 0.015561,
          "end_time": "2021-12-26T14:29:55.527113",
          "exception": false,
          "start_time": "2021-12-26T14:29:55.511552",
          "status": "completed"
        },
        "tags": [],
        "id": "2419942a"
      },
      "source": [
        "## Note: As the main purpose of this notebook is deployment, I performed EDA and experiemnts separately and found that:\n",
        "## 1)SVM, as compared to other classification algorithms works best for this problem.\n",
        "## 2)Removing outliers(if the particular feature is normally distributed we use z-score method to remove the outlier, if the feature is skewed either positively or negatively we use IQR formula to remove them) has no effect on the accuracy, infact it becomes 1% less accurate."
      ]
    },
    {
      "cell_type": "markdown",
      "id": "681ded67",
      "metadata": {
        "papermill": {
          "duration": 0.01504,
          "end_time": "2021-12-26T14:29:55.557725",
          "exception": false,
          "start_time": "2021-12-26T14:29:55.542685",
          "status": "completed"
        },
        "tags": [],
        "id": "681ded67"
      },
      "source": [
        "##  iii) Separating Dependent and Independent Variables"
      ]
    },
    {
      "cell_type": "code",
      "execution_count": null,
      "id": "8f926fa4",
      "metadata": {
        "execution": {
          "iopub.execute_input": "2021-12-26T14:29:55.591220Z",
          "iopub.status.busy": "2021-12-26T14:29:55.590766Z",
          "iopub.status.idle": "2021-12-26T14:29:55.627081Z",
          "shell.execute_reply": "2021-12-26T14:29:55.627487Z",
          "shell.execute_reply.started": "2021-12-26T14:27:45.219366Z"
        },
        "papermill": {
          "duration": 0.054665,
          "end_time": "2021-12-26T14:29:55.627659",
          "exception": false,
          "start_time": "2021-12-26T14:29:55.572994",
          "status": "completed"
        },
        "tags": [],
        "colab": {
          "base_uri": "https://localhost:8080/",
          "height": 424
        },
        "id": "8f926fa4",
        "outputId": "be0a67aa-c9ec-4e6b-f1ff-32c52d1ff6d0"
      },
      "outputs": [
        {
          "output_type": "execute_result",
          "data": {
            "text/plain": [
              "     Age Sex ChestPainType  RestingBP  Cholesterol  FastingBS RestingECG  \\\n",
              "0     40   M           ATA        140          289          0     Normal   \n",
              "1     49   F           NAP        160          180          0     Normal   \n",
              "2     37   M           ATA        130          283          0         ST   \n",
              "3     48   F           ASY        138          214          0     Normal   \n",
              "4     54   M           NAP        150          195          0     Normal   \n",
              "..   ...  ..           ...        ...          ...        ...        ...   \n",
              "913   45   M            TA        110          264          0     Normal   \n",
              "914   68   M           ASY        144          193          1     Normal   \n",
              "915   57   M           ASY        130          131          0     Normal   \n",
              "916   57   F           ATA        130          236          0        LVH   \n",
              "917   38   M           NAP        138          175          0     Normal   \n",
              "\n",
              "     MaxHR ExerciseAngina  Oldpeak ST_Slope  HeartDisease  \n",
              "0      172              N      0.0       Up             0  \n",
              "1      156              N      1.0     Flat             1  \n",
              "2       98              N      0.0       Up             0  \n",
              "3      108              Y      1.5     Flat             1  \n",
              "4      122              N      0.0       Up             0  \n",
              "..     ...            ...      ...      ...           ...  \n",
              "913    132              N      1.2     Flat             1  \n",
              "914    141              N      3.4     Flat             1  \n",
              "915    115              Y      1.2     Flat             1  \n",
              "916    174              N      0.0     Flat             1  \n",
              "917    173              N      0.0       Up             0  \n",
              "\n",
              "[918 rows x 12 columns]"
            ],
            "text/html": [
              "\n",
              "  <div id=\"df-ad3589f4-e4af-45ed-ba10-5380be3bc648\" class=\"colab-df-container\">\n",
              "    <div>\n",
              "<style scoped>\n",
              "    .dataframe tbody tr th:only-of-type {\n",
              "        vertical-align: middle;\n",
              "    }\n",
              "\n",
              "    .dataframe tbody tr th {\n",
              "        vertical-align: top;\n",
              "    }\n",
              "\n",
              "    .dataframe thead th {\n",
              "        text-align: right;\n",
              "    }\n",
              "</style>\n",
              "<table border=\"1\" class=\"dataframe\">\n",
              "  <thead>\n",
              "    <tr style=\"text-align: right;\">\n",
              "      <th></th>\n",
              "      <th>Age</th>\n",
              "      <th>Sex</th>\n",
              "      <th>ChestPainType</th>\n",
              "      <th>RestingBP</th>\n",
              "      <th>Cholesterol</th>\n",
              "      <th>FastingBS</th>\n",
              "      <th>RestingECG</th>\n",
              "      <th>MaxHR</th>\n",
              "      <th>ExerciseAngina</th>\n",
              "      <th>Oldpeak</th>\n",
              "      <th>ST_Slope</th>\n",
              "      <th>HeartDisease</th>\n",
              "    </tr>\n",
              "  </thead>\n",
              "  <tbody>\n",
              "    <tr>\n",
              "      <th>0</th>\n",
              "      <td>40</td>\n",
              "      <td>M</td>\n",
              "      <td>ATA</td>\n",
              "      <td>140</td>\n",
              "      <td>289</td>\n",
              "      <td>0</td>\n",
              "      <td>Normal</td>\n",
              "      <td>172</td>\n",
              "      <td>N</td>\n",
              "      <td>0.0</td>\n",
              "      <td>Up</td>\n",
              "      <td>0</td>\n",
              "    </tr>\n",
              "    <tr>\n",
              "      <th>1</th>\n",
              "      <td>49</td>\n",
              "      <td>F</td>\n",
              "      <td>NAP</td>\n",
              "      <td>160</td>\n",
              "      <td>180</td>\n",
              "      <td>0</td>\n",
              "      <td>Normal</td>\n",
              "      <td>156</td>\n",
              "      <td>N</td>\n",
              "      <td>1.0</td>\n",
              "      <td>Flat</td>\n",
              "      <td>1</td>\n",
              "    </tr>\n",
              "    <tr>\n",
              "      <th>2</th>\n",
              "      <td>37</td>\n",
              "      <td>M</td>\n",
              "      <td>ATA</td>\n",
              "      <td>130</td>\n",
              "      <td>283</td>\n",
              "      <td>0</td>\n",
              "      <td>ST</td>\n",
              "      <td>98</td>\n",
              "      <td>N</td>\n",
              "      <td>0.0</td>\n",
              "      <td>Up</td>\n",
              "      <td>0</td>\n",
              "    </tr>\n",
              "    <tr>\n",
              "      <th>3</th>\n",
              "      <td>48</td>\n",
              "      <td>F</td>\n",
              "      <td>ASY</td>\n",
              "      <td>138</td>\n",
              "      <td>214</td>\n",
              "      <td>0</td>\n",
              "      <td>Normal</td>\n",
              "      <td>108</td>\n",
              "      <td>Y</td>\n",
              "      <td>1.5</td>\n",
              "      <td>Flat</td>\n",
              "      <td>1</td>\n",
              "    </tr>\n",
              "    <tr>\n",
              "      <th>4</th>\n",
              "      <td>54</td>\n",
              "      <td>M</td>\n",
              "      <td>NAP</td>\n",
              "      <td>150</td>\n",
              "      <td>195</td>\n",
              "      <td>0</td>\n",
              "      <td>Normal</td>\n",
              "      <td>122</td>\n",
              "      <td>N</td>\n",
              "      <td>0.0</td>\n",
              "      <td>Up</td>\n",
              "      <td>0</td>\n",
              "    </tr>\n",
              "    <tr>\n",
              "      <th>...</th>\n",
              "      <td>...</td>\n",
              "      <td>...</td>\n",
              "      <td>...</td>\n",
              "      <td>...</td>\n",
              "      <td>...</td>\n",
              "      <td>...</td>\n",
              "      <td>...</td>\n",
              "      <td>...</td>\n",
              "      <td>...</td>\n",
              "      <td>...</td>\n",
              "      <td>...</td>\n",
              "      <td>...</td>\n",
              "    </tr>\n",
              "    <tr>\n",
              "      <th>913</th>\n",
              "      <td>45</td>\n",
              "      <td>M</td>\n",
              "      <td>TA</td>\n",
              "      <td>110</td>\n",
              "      <td>264</td>\n",
              "      <td>0</td>\n",
              "      <td>Normal</td>\n",
              "      <td>132</td>\n",
              "      <td>N</td>\n",
              "      <td>1.2</td>\n",
              "      <td>Flat</td>\n",
              "      <td>1</td>\n",
              "    </tr>\n",
              "    <tr>\n",
              "      <th>914</th>\n",
              "      <td>68</td>\n",
              "      <td>M</td>\n",
              "      <td>ASY</td>\n",
              "      <td>144</td>\n",
              "      <td>193</td>\n",
              "      <td>1</td>\n",
              "      <td>Normal</td>\n",
              "      <td>141</td>\n",
              "      <td>N</td>\n",
              "      <td>3.4</td>\n",
              "      <td>Flat</td>\n",
              "      <td>1</td>\n",
              "    </tr>\n",
              "    <tr>\n",
              "      <th>915</th>\n",
              "      <td>57</td>\n",
              "      <td>M</td>\n",
              "      <td>ASY</td>\n",
              "      <td>130</td>\n",
              "      <td>131</td>\n",
              "      <td>0</td>\n",
              "      <td>Normal</td>\n",
              "      <td>115</td>\n",
              "      <td>Y</td>\n",
              "      <td>1.2</td>\n",
              "      <td>Flat</td>\n",
              "      <td>1</td>\n",
              "    </tr>\n",
              "    <tr>\n",
              "      <th>916</th>\n",
              "      <td>57</td>\n",
              "      <td>F</td>\n",
              "      <td>ATA</td>\n",
              "      <td>130</td>\n",
              "      <td>236</td>\n",
              "      <td>0</td>\n",
              "      <td>LVH</td>\n",
              "      <td>174</td>\n",
              "      <td>N</td>\n",
              "      <td>0.0</td>\n",
              "      <td>Flat</td>\n",
              "      <td>1</td>\n",
              "    </tr>\n",
              "    <tr>\n",
              "      <th>917</th>\n",
              "      <td>38</td>\n",
              "      <td>M</td>\n",
              "      <td>NAP</td>\n",
              "      <td>138</td>\n",
              "      <td>175</td>\n",
              "      <td>0</td>\n",
              "      <td>Normal</td>\n",
              "      <td>173</td>\n",
              "      <td>N</td>\n",
              "      <td>0.0</td>\n",
              "      <td>Up</td>\n",
              "      <td>0</td>\n",
              "    </tr>\n",
              "  </tbody>\n",
              "</table>\n",
              "<p>918 rows × 12 columns</p>\n",
              "</div>\n",
              "    <div class=\"colab-df-buttons\">\n",
              "\n",
              "  <div class=\"colab-df-container\">\n",
              "    <button class=\"colab-df-convert\" onclick=\"convertToInteractive('df-ad3589f4-e4af-45ed-ba10-5380be3bc648')\"\n",
              "            title=\"Convert this dataframe to an interactive table.\"\n",
              "            style=\"display:none;\">\n",
              "\n",
              "  <svg xmlns=\"http://www.w3.org/2000/svg\" height=\"24px\" viewBox=\"0 -960 960 960\">\n",
              "    <path d=\"M120-120v-720h720v720H120Zm60-500h600v-160H180v160Zm220 220h160v-160H400v160Zm0 220h160v-160H400v160ZM180-400h160v-160H180v160Zm440 0h160v-160H620v160ZM180-180h160v-160H180v160Zm440 0h160v-160H620v160Z\"/>\n",
              "  </svg>\n",
              "    </button>\n",
              "\n",
              "  <style>\n",
              "    .colab-df-container {\n",
              "      display:flex;\n",
              "      gap: 12px;\n",
              "    }\n",
              "\n",
              "    .colab-df-convert {\n",
              "      background-color: #E8F0FE;\n",
              "      border: none;\n",
              "      border-radius: 50%;\n",
              "      cursor: pointer;\n",
              "      display: none;\n",
              "      fill: #1967D2;\n",
              "      height: 32px;\n",
              "      padding: 0 0 0 0;\n",
              "      width: 32px;\n",
              "    }\n",
              "\n",
              "    .colab-df-convert:hover {\n",
              "      background-color: #E2EBFA;\n",
              "      box-shadow: 0px 1px 2px rgba(60, 64, 67, 0.3), 0px 1px 3px 1px rgba(60, 64, 67, 0.15);\n",
              "      fill: #174EA6;\n",
              "    }\n",
              "\n",
              "    .colab-df-buttons div {\n",
              "      margin-bottom: 4px;\n",
              "    }\n",
              "\n",
              "    [theme=dark] .colab-df-convert {\n",
              "      background-color: #3B4455;\n",
              "      fill: #D2E3FC;\n",
              "    }\n",
              "\n",
              "    [theme=dark] .colab-df-convert:hover {\n",
              "      background-color: #434B5C;\n",
              "      box-shadow: 0px 1px 3px 1px rgba(0, 0, 0, 0.15);\n",
              "      filter: drop-shadow(0px 1px 2px rgba(0, 0, 0, 0.3));\n",
              "      fill: #FFFFFF;\n",
              "    }\n",
              "  </style>\n",
              "\n",
              "    <script>\n",
              "      const buttonEl =\n",
              "        document.querySelector('#df-ad3589f4-e4af-45ed-ba10-5380be3bc648 button.colab-df-convert');\n",
              "      buttonEl.style.display =\n",
              "        google.colab.kernel.accessAllowed ? 'block' : 'none';\n",
              "\n",
              "      async function convertToInteractive(key) {\n",
              "        const element = document.querySelector('#df-ad3589f4-e4af-45ed-ba10-5380be3bc648');\n",
              "        const dataTable =\n",
              "          await google.colab.kernel.invokeFunction('convertToInteractive',\n",
              "                                                    [key], {});\n",
              "        if (!dataTable) return;\n",
              "\n",
              "        const docLinkHtml = 'Like what you see? Visit the ' +\n",
              "          '<a target=\"_blank\" href=https://colab.research.google.com/notebooks/data_table.ipynb>data table notebook</a>'\n",
              "          + ' to learn more about interactive tables.';\n",
              "        element.innerHTML = '';\n",
              "        dataTable['output_type'] = 'display_data';\n",
              "        await google.colab.output.renderOutput(dataTable, element);\n",
              "        const docLink = document.createElement('div');\n",
              "        docLink.innerHTML = docLinkHtml;\n",
              "        element.appendChild(docLink);\n",
              "      }\n",
              "    </script>\n",
              "  </div>\n",
              "\n",
              "\n",
              "<div id=\"df-e676f309-758e-407c-8b12-e8f87f967ca4\">\n",
              "  <button class=\"colab-df-quickchart\" onclick=\"quickchart('df-e676f309-758e-407c-8b12-e8f87f967ca4')\"\n",
              "            title=\"Suggest charts\"\n",
              "            style=\"display:none;\">\n",
              "\n",
              "<svg xmlns=\"http://www.w3.org/2000/svg\" height=\"24px\"viewBox=\"0 0 24 24\"\n",
              "     width=\"24px\">\n",
              "    <g>\n",
              "        <path d=\"M19 3H5c-1.1 0-2 .9-2 2v14c0 1.1.9 2 2 2h14c1.1 0 2-.9 2-2V5c0-1.1-.9-2-2-2zM9 17H7v-7h2v7zm4 0h-2V7h2v10zm4 0h-2v-4h2v4z\"/>\n",
              "    </g>\n",
              "</svg>\n",
              "  </button>\n",
              "\n",
              "<style>\n",
              "  .colab-df-quickchart {\n",
              "      --bg-color: #E8F0FE;\n",
              "      --fill-color: #1967D2;\n",
              "      --hover-bg-color: #E2EBFA;\n",
              "      --hover-fill-color: #174EA6;\n",
              "      --disabled-fill-color: #AAA;\n",
              "      --disabled-bg-color: #DDD;\n",
              "  }\n",
              "\n",
              "  [theme=dark] .colab-df-quickchart {\n",
              "      --bg-color: #3B4455;\n",
              "      --fill-color: #D2E3FC;\n",
              "      --hover-bg-color: #434B5C;\n",
              "      --hover-fill-color: #FFFFFF;\n",
              "      --disabled-bg-color: #3B4455;\n",
              "      --disabled-fill-color: #666;\n",
              "  }\n",
              "\n",
              "  .colab-df-quickchart {\n",
              "    background-color: var(--bg-color);\n",
              "    border: none;\n",
              "    border-radius: 50%;\n",
              "    cursor: pointer;\n",
              "    display: none;\n",
              "    fill: var(--fill-color);\n",
              "    height: 32px;\n",
              "    padding: 0;\n",
              "    width: 32px;\n",
              "  }\n",
              "\n",
              "  .colab-df-quickchart:hover {\n",
              "    background-color: var(--hover-bg-color);\n",
              "    box-shadow: 0 1px 2px rgba(60, 64, 67, 0.3), 0 1px 3px 1px rgba(60, 64, 67, 0.15);\n",
              "    fill: var(--button-hover-fill-color);\n",
              "  }\n",
              "\n",
              "  .colab-df-quickchart-complete:disabled,\n",
              "  .colab-df-quickchart-complete:disabled:hover {\n",
              "    background-color: var(--disabled-bg-color);\n",
              "    fill: var(--disabled-fill-color);\n",
              "    box-shadow: none;\n",
              "  }\n",
              "\n",
              "  .colab-df-spinner {\n",
              "    border: 2px solid var(--fill-color);\n",
              "    border-color: transparent;\n",
              "    border-bottom-color: var(--fill-color);\n",
              "    animation:\n",
              "      spin 1s steps(1) infinite;\n",
              "  }\n",
              "\n",
              "  @keyframes spin {\n",
              "    0% {\n",
              "      border-color: transparent;\n",
              "      border-bottom-color: var(--fill-color);\n",
              "      border-left-color: var(--fill-color);\n",
              "    }\n",
              "    20% {\n",
              "      border-color: transparent;\n",
              "      border-left-color: var(--fill-color);\n",
              "      border-top-color: var(--fill-color);\n",
              "    }\n",
              "    30% {\n",
              "      border-color: transparent;\n",
              "      border-left-color: var(--fill-color);\n",
              "      border-top-color: var(--fill-color);\n",
              "      border-right-color: var(--fill-color);\n",
              "    }\n",
              "    40% {\n",
              "      border-color: transparent;\n",
              "      border-right-color: var(--fill-color);\n",
              "      border-top-color: var(--fill-color);\n",
              "    }\n",
              "    60% {\n",
              "      border-color: transparent;\n",
              "      border-right-color: var(--fill-color);\n",
              "    }\n",
              "    80% {\n",
              "      border-color: transparent;\n",
              "      border-right-color: var(--fill-color);\n",
              "      border-bottom-color: var(--fill-color);\n",
              "    }\n",
              "    90% {\n",
              "      border-color: transparent;\n",
              "      border-bottom-color: var(--fill-color);\n",
              "    }\n",
              "  }\n",
              "</style>\n",
              "\n",
              "  <script>\n",
              "    async function quickchart(key) {\n",
              "      const quickchartButtonEl =\n",
              "        document.querySelector('#' + key + ' button');\n",
              "      quickchartButtonEl.disabled = true;  // To prevent multiple clicks.\n",
              "      quickchartButtonEl.classList.add('colab-df-spinner');\n",
              "      try {\n",
              "        const charts = await google.colab.kernel.invokeFunction(\n",
              "            'suggestCharts', [key], {});\n",
              "      } catch (error) {\n",
              "        console.error('Error during call to suggestCharts:', error);\n",
              "      }\n",
              "      quickchartButtonEl.classList.remove('colab-df-spinner');\n",
              "      quickchartButtonEl.classList.add('colab-df-quickchart-complete');\n",
              "    }\n",
              "    (() => {\n",
              "      let quickchartButtonEl =\n",
              "        document.querySelector('#df-e676f309-758e-407c-8b12-e8f87f967ca4 button');\n",
              "      quickchartButtonEl.style.display =\n",
              "        google.colab.kernel.accessAllowed ? 'block' : 'none';\n",
              "    })();\n",
              "  </script>\n",
              "</div>\n",
              "    </div>\n",
              "  </div>\n"
            ],
            "application/vnd.google.colaboratory.intrinsic+json": {
              "type": "dataframe",
              "variable_name": "df",
              "summary": "{\n  \"name\": \"df\",\n  \"rows\": 918,\n  \"fields\": [\n    {\n      \"column\": \"Age\",\n      \"properties\": {\n        \"dtype\": \"number\",\n        \"std\": 9,\n        \"min\": 28,\n        \"max\": 77,\n        \"num_unique_values\": 50,\n        \"samples\": [\n          44,\n          68,\n          66\n        ],\n        \"semantic_type\": \"\",\n        \"description\": \"\"\n      }\n    },\n    {\n      \"column\": \"Sex\",\n      \"properties\": {\n        \"dtype\": \"category\",\n        \"num_unique_values\": 2,\n        \"samples\": [\n          \"F\",\n          \"M\"\n        ],\n        \"semantic_type\": \"\",\n        \"description\": \"\"\n      }\n    },\n    {\n      \"column\": \"ChestPainType\",\n      \"properties\": {\n        \"dtype\": \"category\",\n        \"num_unique_values\": 4,\n        \"samples\": [\n          \"NAP\",\n          \"TA\"\n        ],\n        \"semantic_type\": \"\",\n        \"description\": \"\"\n      }\n    },\n    {\n      \"column\": \"RestingBP\",\n      \"properties\": {\n        \"dtype\": \"number\",\n        \"std\": 18,\n        \"min\": 0,\n        \"max\": 200,\n        \"num_unique_values\": 67,\n        \"samples\": [\n          165,\n          118\n        ],\n        \"semantic_type\": \"\",\n        \"description\": \"\"\n      }\n    },\n    {\n      \"column\": \"Cholesterol\",\n      \"properties\": {\n        \"dtype\": \"number\",\n        \"std\": 109,\n        \"min\": 0,\n        \"max\": 603,\n        \"num_unique_values\": 222,\n        \"samples\": [\n          305,\n          321\n        ],\n        \"semantic_type\": \"\",\n        \"description\": \"\"\n      }\n    },\n    {\n      \"column\": \"FastingBS\",\n      \"properties\": {\n        \"dtype\": \"number\",\n        \"std\": 0,\n        \"min\": 0,\n        \"max\": 1,\n        \"num_unique_values\": 2,\n        \"samples\": [\n          1,\n          0\n        ],\n        \"semantic_type\": \"\",\n        \"description\": \"\"\n      }\n    },\n    {\n      \"column\": \"RestingECG\",\n      \"properties\": {\n        \"dtype\": \"category\",\n        \"num_unique_values\": 3,\n        \"samples\": [\n          \"Normal\",\n          \"ST\"\n        ],\n        \"semantic_type\": \"\",\n        \"description\": \"\"\n      }\n    },\n    {\n      \"column\": \"MaxHR\",\n      \"properties\": {\n        \"dtype\": \"number\",\n        \"std\": 25,\n        \"min\": 60,\n        \"max\": 202,\n        \"num_unique_values\": 119,\n        \"samples\": [\n          132,\n          157\n        ],\n        \"semantic_type\": \"\",\n        \"description\": \"\"\n      }\n    },\n    {\n      \"column\": \"ExerciseAngina\",\n      \"properties\": {\n        \"dtype\": \"category\",\n        \"num_unique_values\": 2,\n        \"samples\": [\n          \"Y\",\n          \"N\"\n        ],\n        \"semantic_type\": \"\",\n        \"description\": \"\"\n      }\n    },\n    {\n      \"column\": \"Oldpeak\",\n      \"properties\": {\n        \"dtype\": \"number\",\n        \"std\": 1.0665701510493257,\n        \"min\": -2.6,\n        \"max\": 6.2,\n        \"num_unique_values\": 53,\n        \"samples\": [\n          1.3,\n          0.6\n        ],\n        \"semantic_type\": \"\",\n        \"description\": \"\"\n      }\n    },\n    {\n      \"column\": \"ST_Slope\",\n      \"properties\": {\n        \"dtype\": \"category\",\n        \"num_unique_values\": 3,\n        \"samples\": [\n          \"Up\",\n          \"Flat\"\n        ],\n        \"semantic_type\": \"\",\n        \"description\": \"\"\n      }\n    },\n    {\n      \"column\": \"HeartDisease\",\n      \"properties\": {\n        \"dtype\": \"number\",\n        \"std\": 0,\n        \"min\": 0,\n        \"max\": 1,\n        \"num_unique_values\": 2,\n        \"samples\": [\n          1,\n          0\n        ],\n        \"semantic_type\": \"\",\n        \"description\": \"\"\n      }\n    }\n  ]\n}"
            }
          },
          "metadata": {},
          "execution_count": 6
        }
      ],
      "source": [
        "df"
      ]
    },
    {
      "cell_type": "code",
      "execution_count": null,
      "id": "96d104da",
      "metadata": {
        "execution": {
          "iopub.execute_input": "2021-12-26T14:29:55.671843Z",
          "iopub.status.busy": "2021-12-26T14:29:55.671325Z",
          "iopub.status.idle": "2021-12-26T14:29:55.676551Z",
          "shell.execute_reply": "2021-12-26T14:29:55.676943Z",
          "shell.execute_reply.started": "2021-12-26T14:27:45.492972Z"
        },
        "papermill": {
          "duration": 0.032728,
          "end_time": "2021-12-26T14:29:55.677083",
          "exception": false,
          "start_time": "2021-12-26T14:29:55.644355",
          "status": "completed"
        },
        "tags": [],
        "id": "96d104da"
      },
      "outputs": [],
      "source": [
        "y=pd.DataFrame(df['HeartDisease'])\n",
        "y=y.values.ravel()\n",
        "X=df.drop(['HeartDisease'],axis=1)\n"
      ]
    },
    {
      "cell_type": "markdown",
      "id": "8d6c1fb7",
      "metadata": {
        "papermill": {
          "duration": 0.016658,
          "end_time": "2021-12-26T14:29:55.710057",
          "exception": false,
          "start_time": "2021-12-26T14:29:55.693399",
          "status": "completed"
        },
        "tags": [],
        "id": "8d6c1fb7"
      },
      "source": [
        "## iv) Train-Test Split"
      ]
    },
    {
      "cell_type": "code",
      "execution_count": null,
      "id": "52f76d22",
      "metadata": {
        "execution": {
          "iopub.execute_input": "2021-12-26T14:29:55.749563Z",
          "iopub.status.busy": "2021-12-26T14:29:55.746398Z",
          "iopub.status.idle": "2021-12-26T14:29:55.753571Z",
          "shell.execute_reply": "2021-12-26T14:29:55.753128Z",
          "shell.execute_reply.started": "2021-12-26T14:27:45.501704Z"
        },
        "papermill": {
          "duration": 0.026373,
          "end_time": "2021-12-26T14:29:55.753706",
          "exception": false,
          "start_time": "2021-12-26T14:29:55.727333",
          "status": "completed"
        },
        "tags": [],
        "id": "52f76d22"
      },
      "outputs": [],
      "source": [
        "from sklearn.model_selection import train_test_split\n",
        "X_train,X_test,y_train,y_test = train_test_split(X,y,test_size=0.3)"
      ]
    },
    {
      "cell_type": "markdown",
      "id": "a0bb646f",
      "metadata": {
        "papermill": {
          "duration": 0.015762,
          "end_time": "2021-12-26T14:29:55.785723",
          "exception": false,
          "start_time": "2021-12-26T14:29:55.769961",
          "status": "completed"
        },
        "tags": [],
        "id": "a0bb646f"
      },
      "source": [
        "## v) Ordinally Encoding the Categorical Features"
      ]
    },
    {
      "cell_type": "code",
      "execution_count": null,
      "id": "61728275",
      "metadata": {
        "execution": {
          "iopub.execute_input": "2021-12-26T14:29:55.823206Z",
          "iopub.status.busy": "2021-12-26T14:29:55.822477Z",
          "iopub.status.idle": "2021-12-26T14:29:55.825640Z",
          "shell.execute_reply": "2021-12-26T14:29:55.826009Z",
          "shell.execute_reply.started": "2021-12-26T14:27:45.515782Z"
        },
        "papermill": {
          "duration": 0.024574,
          "end_time": "2021-12-26T14:29:55.826166",
          "exception": false,
          "start_time": "2021-12-26T14:29:55.801592",
          "status": "completed"
        },
        "tags": [],
        "id": "61728275"
      },
      "outputs": [],
      "source": [
        "trf1 = ColumnTransformer([\n",
        "    ('oe_cat_col1',OrdinalEncoder(categories=[['F','M'],['ATA','NAP','TA','ASY'],['Normal','LVH','ST'],['N','Y'],['Up','Down','Flat']]),['Sex','ChestPainType','RestingECG','ExerciseAngina','ST_Slope'])\n",
        "],remainder='passthrough')"
      ]
    },
    {
      "cell_type": "markdown",
      "id": "3f298472",
      "metadata": {
        "papermill": {
          "duration": 0.015985,
          "end_time": "2021-12-26T14:29:55.858390",
          "exception": false,
          "start_time": "2021-12-26T14:29:55.842405",
          "status": "completed"
        },
        "tags": [],
        "id": "3f298472"
      },
      "source": [
        "## vi) Scaling"
      ]
    },
    {
      "cell_type": "code",
      "execution_count": null,
      "id": "01a48458",
      "metadata": {
        "execution": {
          "iopub.execute_input": "2021-12-26T14:29:55.895823Z",
          "iopub.status.busy": "2021-12-26T14:29:55.895287Z",
          "iopub.status.idle": "2021-12-26T14:29:55.898745Z",
          "shell.execute_reply": "2021-12-26T14:29:55.898281Z",
          "shell.execute_reply.started": "2021-12-26T14:27:45.803213Z"
        },
        "papermill": {
          "duration": 0.02438,
          "end_time": "2021-12-26T14:29:55.898856",
          "exception": false,
          "start_time": "2021-12-26T14:29:55.874476",
          "status": "completed"
        },
        "tags": [],
        "id": "01a48458"
      },
      "outputs": [],
      "source": [
        "trf2 = ColumnTransformer([\n",
        "    ('scale',StandardScaler(),[0,3,4,7,9])\n",
        "],remainder='passthrough')"
      ]
    },
    {
      "cell_type": "markdown",
      "id": "af427f2e",
      "metadata": {
        "papermill": {
          "duration": 0.015762,
          "end_time": "2021-12-26T14:29:55.930819",
          "exception": false,
          "start_time": "2021-12-26T14:29:55.915057",
          "status": "completed"
        },
        "tags": [],
        "id": "af427f2e"
      },
      "source": [
        "## vii) Modeling"
      ]
    },
    {
      "cell_type": "code",
      "execution_count": null,
      "id": "5edc9f23",
      "metadata": {
        "execution": {
          "iopub.execute_input": "2021-12-26T14:29:55.967382Z",
          "iopub.status.busy": "2021-12-26T14:29:55.966848Z",
          "iopub.status.idle": "2021-12-26T14:29:55.970260Z",
          "shell.execute_reply": "2021-12-26T14:29:55.970754Z",
          "shell.execute_reply.started": "2021-12-26T14:27:45.811999Z"
        },
        "papermill": {
          "duration": 0.024143,
          "end_time": "2021-12-26T14:29:55.970894",
          "exception": false,
          "start_time": "2021-12-26T14:29:55.946751",
          "status": "completed"
        },
        "tags": [],
        "id": "5edc9f23"
      },
      "outputs": [],
      "source": [
        "trf3 = svm.SVC(probability=True)"
      ]
    },
    {
      "cell_type": "markdown",
      "id": "f5485572",
      "metadata": {
        "papermill": {
          "duration": 0.015716,
          "end_time": "2021-12-26T14:29:56.002788",
          "exception": false,
          "start_time": "2021-12-26T14:29:55.987072",
          "status": "completed"
        },
        "tags": [],
        "id": "f5485572"
      },
      "source": [
        "## viii)  Creating Pipeline"
      ]
    },
    {
      "cell_type": "code",
      "execution_count": null,
      "id": "95ae3361",
      "metadata": {
        "execution": {
          "iopub.execute_input": "2021-12-26T14:29:56.037939Z",
          "iopub.status.busy": "2021-12-26T14:29:56.037427Z",
          "iopub.status.idle": "2021-12-26T14:29:56.041398Z",
          "shell.execute_reply": "2021-12-26T14:29:56.041842Z",
          "shell.execute_reply.started": "2021-12-26T14:27:45.822248Z"
        },
        "papermill": {
          "duration": 0.022926,
          "end_time": "2021-12-26T14:29:56.041986",
          "exception": false,
          "start_time": "2021-12-26T14:29:56.019060",
          "status": "completed"
        },
        "tags": [],
        "id": "95ae3361"
      },
      "outputs": [],
      "source": [
        "pipe = Pipeline([\n",
        "    ('trf1',trf1),\n",
        "    ('trf2',trf2),\n",
        "    ('trf3',trf3)\n",
        "])"
      ]
    },
    {
      "cell_type": "code",
      "execution_count": null,
      "id": "12401438",
      "metadata": {
        "execution": {
          "iopub.execute_input": "2021-12-26T14:29:56.078368Z",
          "iopub.status.busy": "2021-12-26T14:29:56.077879Z",
          "iopub.status.idle": "2021-12-26T14:29:56.167314Z",
          "shell.execute_reply": "2021-12-26T14:29:56.168134Z",
          "shell.execute_reply.started": "2021-12-26T14:27:45.833493Z"
        },
        "papermill": {
          "duration": 0.109576,
          "end_time": "2021-12-26T14:29:56.168295",
          "exception": false,
          "start_time": "2021-12-26T14:29:56.058719",
          "status": "completed"
        },
        "tags": [],
        "colab": {
          "base_uri": "https://localhost:8080/",
          "height": 297
        },
        "id": "12401438",
        "outputId": "1fd3864d-6e5d-4d7e-bc89-0a3861ea9476"
      },
      "outputs": [
        {
          "output_type": "execute_result",
          "data": {
            "text/plain": [
              "Pipeline(steps=[('trf1',\n",
              "                 ColumnTransformer(remainder='passthrough',\n",
              "                                   transformers=[('oe_cat_col1',\n",
              "                                                  OrdinalEncoder(categories=[['F',\n",
              "                                                                              'M'],\n",
              "                                                                             ['ATA',\n",
              "                                                                              'NAP',\n",
              "                                                                              'TA',\n",
              "                                                                              'ASY'],\n",
              "                                                                             ['Normal',\n",
              "                                                                              'LVH',\n",
              "                                                                              'ST'],\n",
              "                                                                             ['N',\n",
              "                                                                              'Y'],\n",
              "                                                                             ['Up',\n",
              "                                                                              'Down',\n",
              "                                                                              'Flat']]),\n",
              "                                                  ['Sex', 'ChestPainType',\n",
              "                                                   'RestingECG',\n",
              "                                                   'ExerciseAngina',\n",
              "                                                   'ST_Slope'])])),\n",
              "                ('trf2',\n",
              "                 ColumnTransformer(remainder='passthrough',\n",
              "                                   transformers=[('scale', StandardScaler(),\n",
              "                                                  [0, 3, 4, 7, 9])])),\n",
              "                ('trf3', SVC(probability=True))])"
            ],
            "text/html": [
              "<style>#sk-container-id-1 {color: black;background-color: white;}#sk-container-id-1 pre{padding: 0;}#sk-container-id-1 div.sk-toggleable {background-color: white;}#sk-container-id-1 label.sk-toggleable__label {cursor: pointer;display: block;width: 100%;margin-bottom: 0;padding: 0.3em;box-sizing: border-box;text-align: center;}#sk-container-id-1 label.sk-toggleable__label-arrow:before {content: \"▸\";float: left;margin-right: 0.25em;color: #696969;}#sk-container-id-1 label.sk-toggleable__label-arrow:hover:before {color: black;}#sk-container-id-1 div.sk-estimator:hover label.sk-toggleable__label-arrow:before {color: black;}#sk-container-id-1 div.sk-toggleable__content {max-height: 0;max-width: 0;overflow: hidden;text-align: left;background-color: #f0f8ff;}#sk-container-id-1 div.sk-toggleable__content pre {margin: 0.2em;color: black;border-radius: 0.25em;background-color: #f0f8ff;}#sk-container-id-1 input.sk-toggleable__control:checked~div.sk-toggleable__content {max-height: 200px;max-width: 100%;overflow: auto;}#sk-container-id-1 input.sk-toggleable__control:checked~label.sk-toggleable__label-arrow:before {content: \"▾\";}#sk-container-id-1 div.sk-estimator input.sk-toggleable__control:checked~label.sk-toggleable__label {background-color: #d4ebff;}#sk-container-id-1 div.sk-label input.sk-toggleable__control:checked~label.sk-toggleable__label {background-color: #d4ebff;}#sk-container-id-1 input.sk-hidden--visually {border: 0;clip: rect(1px 1px 1px 1px);clip: rect(1px, 1px, 1px, 1px);height: 1px;margin: -1px;overflow: hidden;padding: 0;position: absolute;width: 1px;}#sk-container-id-1 div.sk-estimator {font-family: monospace;background-color: #f0f8ff;border: 1px dotted black;border-radius: 0.25em;box-sizing: border-box;margin-bottom: 0.5em;}#sk-container-id-1 div.sk-estimator:hover {background-color: #d4ebff;}#sk-container-id-1 div.sk-parallel-item::after {content: \"\";width: 100%;border-bottom: 1px solid gray;flex-grow: 1;}#sk-container-id-1 div.sk-label:hover label.sk-toggleable__label {background-color: #d4ebff;}#sk-container-id-1 div.sk-serial::before {content: \"\";position: absolute;border-left: 1px solid gray;box-sizing: border-box;top: 0;bottom: 0;left: 50%;z-index: 0;}#sk-container-id-1 div.sk-serial {display: flex;flex-direction: column;align-items: center;background-color: white;padding-right: 0.2em;padding-left: 0.2em;position: relative;}#sk-container-id-1 div.sk-item {position: relative;z-index: 1;}#sk-container-id-1 div.sk-parallel {display: flex;align-items: stretch;justify-content: center;background-color: white;position: relative;}#sk-container-id-1 div.sk-item::before, #sk-container-id-1 div.sk-parallel-item::before {content: \"\";position: absolute;border-left: 1px solid gray;box-sizing: border-box;top: 0;bottom: 0;left: 50%;z-index: -1;}#sk-container-id-1 div.sk-parallel-item {display: flex;flex-direction: column;z-index: 1;position: relative;background-color: white;}#sk-container-id-1 div.sk-parallel-item:first-child::after {align-self: flex-end;width: 50%;}#sk-container-id-1 div.sk-parallel-item:last-child::after {align-self: flex-start;width: 50%;}#sk-container-id-1 div.sk-parallel-item:only-child::after {width: 0;}#sk-container-id-1 div.sk-dashed-wrapped {border: 1px dashed gray;margin: 0 0.4em 0.5em 0.4em;box-sizing: border-box;padding-bottom: 0.4em;background-color: white;}#sk-container-id-1 div.sk-label label {font-family: monospace;font-weight: bold;display: inline-block;line-height: 1.2em;}#sk-container-id-1 div.sk-label-container {text-align: center;}#sk-container-id-1 div.sk-container {/* jupyter's `normalize.less` sets `[hidden] { display: none; }` but bootstrap.min.css set `[hidden] { display: none !important; }` so we also need the `!important` here to be able to override the default hidden behavior on the sphinx rendered scikit-learn.org. See: https://github.com/scikit-learn/scikit-learn/issues/21755 */display: inline-block !important;position: relative;}#sk-container-id-1 div.sk-text-repr-fallback {display: none;}</style><div id=\"sk-container-id-1\" class=\"sk-top-container\"><div class=\"sk-text-repr-fallback\"><pre>Pipeline(steps=[(&#x27;trf1&#x27;,\n",
              "                 ColumnTransformer(remainder=&#x27;passthrough&#x27;,\n",
              "                                   transformers=[(&#x27;oe_cat_col1&#x27;,\n",
              "                                                  OrdinalEncoder(categories=[[&#x27;F&#x27;,\n",
              "                                                                              &#x27;M&#x27;],\n",
              "                                                                             [&#x27;ATA&#x27;,\n",
              "                                                                              &#x27;NAP&#x27;,\n",
              "                                                                              &#x27;TA&#x27;,\n",
              "                                                                              &#x27;ASY&#x27;],\n",
              "                                                                             [&#x27;Normal&#x27;,\n",
              "                                                                              &#x27;LVH&#x27;,\n",
              "                                                                              &#x27;ST&#x27;],\n",
              "                                                                             [&#x27;N&#x27;,\n",
              "                                                                              &#x27;Y&#x27;],\n",
              "                                                                             [&#x27;Up&#x27;,\n",
              "                                                                              &#x27;Down&#x27;,\n",
              "                                                                              &#x27;Flat&#x27;]]),\n",
              "                                                  [&#x27;Sex&#x27;, &#x27;ChestPainType&#x27;,\n",
              "                                                   &#x27;RestingECG&#x27;,\n",
              "                                                   &#x27;ExerciseAngina&#x27;,\n",
              "                                                   &#x27;ST_Slope&#x27;])])),\n",
              "                (&#x27;trf2&#x27;,\n",
              "                 ColumnTransformer(remainder=&#x27;passthrough&#x27;,\n",
              "                                   transformers=[(&#x27;scale&#x27;, StandardScaler(),\n",
              "                                                  [0, 3, 4, 7, 9])])),\n",
              "                (&#x27;trf3&#x27;, SVC(probability=True))])</pre><b>In a Jupyter environment, please rerun this cell to show the HTML representation or trust the notebook. <br />On GitHub, the HTML representation is unable to render, please try loading this page with nbviewer.org.</b></div><div class=\"sk-container\" hidden><div class=\"sk-item sk-dashed-wrapped\"><div class=\"sk-label-container\"><div class=\"sk-label sk-toggleable\"><input class=\"sk-toggleable__control sk-hidden--visually\" id=\"sk-estimator-id-1\" type=\"checkbox\" ><label for=\"sk-estimator-id-1\" class=\"sk-toggleable__label sk-toggleable__label-arrow\">Pipeline</label><div class=\"sk-toggleable__content\"><pre>Pipeline(steps=[(&#x27;trf1&#x27;,\n",
              "                 ColumnTransformer(remainder=&#x27;passthrough&#x27;,\n",
              "                                   transformers=[(&#x27;oe_cat_col1&#x27;,\n",
              "                                                  OrdinalEncoder(categories=[[&#x27;F&#x27;,\n",
              "                                                                              &#x27;M&#x27;],\n",
              "                                                                             [&#x27;ATA&#x27;,\n",
              "                                                                              &#x27;NAP&#x27;,\n",
              "                                                                              &#x27;TA&#x27;,\n",
              "                                                                              &#x27;ASY&#x27;],\n",
              "                                                                             [&#x27;Normal&#x27;,\n",
              "                                                                              &#x27;LVH&#x27;,\n",
              "                                                                              &#x27;ST&#x27;],\n",
              "                                                                             [&#x27;N&#x27;,\n",
              "                                                                              &#x27;Y&#x27;],\n",
              "                                                                             [&#x27;Up&#x27;,\n",
              "                                                                              &#x27;Down&#x27;,\n",
              "                                                                              &#x27;Flat&#x27;]]),\n",
              "                                                  [&#x27;Sex&#x27;, &#x27;ChestPainType&#x27;,\n",
              "                                                   &#x27;RestingECG&#x27;,\n",
              "                                                   &#x27;ExerciseAngina&#x27;,\n",
              "                                                   &#x27;ST_Slope&#x27;])])),\n",
              "                (&#x27;trf2&#x27;,\n",
              "                 ColumnTransformer(remainder=&#x27;passthrough&#x27;,\n",
              "                                   transformers=[(&#x27;scale&#x27;, StandardScaler(),\n",
              "                                                  [0, 3, 4, 7, 9])])),\n",
              "                (&#x27;trf3&#x27;, SVC(probability=True))])</pre></div></div></div><div class=\"sk-serial\"><div class=\"sk-item sk-dashed-wrapped\"><div class=\"sk-label-container\"><div class=\"sk-label sk-toggleable\"><input class=\"sk-toggleable__control sk-hidden--visually\" id=\"sk-estimator-id-2\" type=\"checkbox\" ><label for=\"sk-estimator-id-2\" class=\"sk-toggleable__label sk-toggleable__label-arrow\">trf1: ColumnTransformer</label><div class=\"sk-toggleable__content\"><pre>ColumnTransformer(remainder=&#x27;passthrough&#x27;,\n",
              "                  transformers=[(&#x27;oe_cat_col1&#x27;,\n",
              "                                 OrdinalEncoder(categories=[[&#x27;F&#x27;, &#x27;M&#x27;],\n",
              "                                                            [&#x27;ATA&#x27;, &#x27;NAP&#x27;, &#x27;TA&#x27;,\n",
              "                                                             &#x27;ASY&#x27;],\n",
              "                                                            [&#x27;Normal&#x27;, &#x27;LVH&#x27;,\n",
              "                                                             &#x27;ST&#x27;],\n",
              "                                                            [&#x27;N&#x27;, &#x27;Y&#x27;],\n",
              "                                                            [&#x27;Up&#x27;, &#x27;Down&#x27;,\n",
              "                                                             &#x27;Flat&#x27;]]),\n",
              "                                 [&#x27;Sex&#x27;, &#x27;ChestPainType&#x27;, &#x27;RestingECG&#x27;,\n",
              "                                  &#x27;ExerciseAngina&#x27;, &#x27;ST_Slope&#x27;])])</pre></div></div></div><div class=\"sk-parallel\"><div class=\"sk-parallel-item\"><div class=\"sk-item\"><div class=\"sk-label-container\"><div class=\"sk-label sk-toggleable\"><input class=\"sk-toggleable__control sk-hidden--visually\" id=\"sk-estimator-id-3\" type=\"checkbox\" ><label for=\"sk-estimator-id-3\" class=\"sk-toggleable__label sk-toggleable__label-arrow\">oe_cat_col1</label><div class=\"sk-toggleable__content\"><pre>[&#x27;Sex&#x27;, &#x27;ChestPainType&#x27;, &#x27;RestingECG&#x27;, &#x27;ExerciseAngina&#x27;, &#x27;ST_Slope&#x27;]</pre></div></div></div><div class=\"sk-serial\"><div class=\"sk-item\"><div class=\"sk-estimator sk-toggleable\"><input class=\"sk-toggleable__control sk-hidden--visually\" id=\"sk-estimator-id-4\" type=\"checkbox\" ><label for=\"sk-estimator-id-4\" class=\"sk-toggleable__label sk-toggleable__label-arrow\">OrdinalEncoder</label><div class=\"sk-toggleable__content\"><pre>OrdinalEncoder(categories=[[&#x27;F&#x27;, &#x27;M&#x27;], [&#x27;ATA&#x27;, &#x27;NAP&#x27;, &#x27;TA&#x27;, &#x27;ASY&#x27;],\n",
              "                           [&#x27;Normal&#x27;, &#x27;LVH&#x27;, &#x27;ST&#x27;], [&#x27;N&#x27;, &#x27;Y&#x27;],\n",
              "                           [&#x27;Up&#x27;, &#x27;Down&#x27;, &#x27;Flat&#x27;]])</pre></div></div></div></div></div></div><div class=\"sk-parallel-item\"><div class=\"sk-item\"><div class=\"sk-label-container\"><div class=\"sk-label sk-toggleable\"><input class=\"sk-toggleable__control sk-hidden--visually\" id=\"sk-estimator-id-5\" type=\"checkbox\" ><label for=\"sk-estimator-id-5\" class=\"sk-toggleable__label sk-toggleable__label-arrow\">remainder</label><div class=\"sk-toggleable__content\"><pre>[&#x27;Age&#x27;, &#x27;RestingBP&#x27;, &#x27;Cholesterol&#x27;, &#x27;FastingBS&#x27;, &#x27;MaxHR&#x27;, &#x27;Oldpeak&#x27;]</pre></div></div></div><div class=\"sk-serial\"><div class=\"sk-item\"><div class=\"sk-estimator sk-toggleable\"><input class=\"sk-toggleable__control sk-hidden--visually\" id=\"sk-estimator-id-6\" type=\"checkbox\" ><label for=\"sk-estimator-id-6\" class=\"sk-toggleable__label sk-toggleable__label-arrow\">passthrough</label><div class=\"sk-toggleable__content\"><pre>passthrough</pre></div></div></div></div></div></div></div></div><div class=\"sk-item sk-dashed-wrapped\"><div class=\"sk-label-container\"><div class=\"sk-label sk-toggleable\"><input class=\"sk-toggleable__control sk-hidden--visually\" id=\"sk-estimator-id-7\" type=\"checkbox\" ><label for=\"sk-estimator-id-7\" class=\"sk-toggleable__label sk-toggleable__label-arrow\">trf2: ColumnTransformer</label><div class=\"sk-toggleable__content\"><pre>ColumnTransformer(remainder=&#x27;passthrough&#x27;,\n",
              "                  transformers=[(&#x27;scale&#x27;, StandardScaler(), [0, 3, 4, 7, 9])])</pre></div></div></div><div class=\"sk-parallel\"><div class=\"sk-parallel-item\"><div class=\"sk-item\"><div class=\"sk-label-container\"><div class=\"sk-label sk-toggleable\"><input class=\"sk-toggleable__control sk-hidden--visually\" id=\"sk-estimator-id-8\" type=\"checkbox\" ><label for=\"sk-estimator-id-8\" class=\"sk-toggleable__label sk-toggleable__label-arrow\">scale</label><div class=\"sk-toggleable__content\"><pre>[0, 3, 4, 7, 9]</pre></div></div></div><div class=\"sk-serial\"><div class=\"sk-item\"><div class=\"sk-estimator sk-toggleable\"><input class=\"sk-toggleable__control sk-hidden--visually\" id=\"sk-estimator-id-9\" type=\"checkbox\" ><label for=\"sk-estimator-id-9\" class=\"sk-toggleable__label sk-toggleable__label-arrow\">StandardScaler</label><div class=\"sk-toggleable__content\"><pre>StandardScaler()</pre></div></div></div></div></div></div><div class=\"sk-parallel-item\"><div class=\"sk-item\"><div class=\"sk-label-container\"><div class=\"sk-label sk-toggleable\"><input class=\"sk-toggleable__control sk-hidden--visually\" id=\"sk-estimator-id-10\" type=\"checkbox\" ><label for=\"sk-estimator-id-10\" class=\"sk-toggleable__label sk-toggleable__label-arrow\">remainder</label><div class=\"sk-toggleable__content\"><pre>[1, 2, 5, 6, 8, 10]</pre></div></div></div><div class=\"sk-serial\"><div class=\"sk-item\"><div class=\"sk-estimator sk-toggleable\"><input class=\"sk-toggleable__control sk-hidden--visually\" id=\"sk-estimator-id-11\" type=\"checkbox\" ><label for=\"sk-estimator-id-11\" class=\"sk-toggleable__label sk-toggleable__label-arrow\">passthrough</label><div class=\"sk-toggleable__content\"><pre>passthrough</pre></div></div></div></div></div></div></div></div><div class=\"sk-item\"><div class=\"sk-estimator sk-toggleable\"><input class=\"sk-toggleable__control sk-hidden--visually\" id=\"sk-estimator-id-12\" type=\"checkbox\" ><label for=\"sk-estimator-id-12\" class=\"sk-toggleable__label sk-toggleable__label-arrow\">SVC</label><div class=\"sk-toggleable__content\"><pre>SVC(probability=True)</pre></div></div></div></div></div></div></div>"
            ]
          },
          "metadata": {},
          "execution_count": 13
        }
      ],
      "source": [
        "pipe.fit(X_train,y_train)"
      ]
    },
    {
      "cell_type": "code",
      "execution_count": null,
      "id": "cb140283",
      "metadata": {
        "execution": {
          "iopub.execute_input": "2021-12-26T14:29:56.210742Z",
          "iopub.status.busy": "2021-12-26T14:29:56.210149Z",
          "iopub.status.idle": "2021-12-26T14:29:56.223573Z",
          "shell.execute_reply": "2021-12-26T14:29:56.223109Z",
          "shell.execute_reply.started": "2021-12-26T14:27:46.112213Z"
        },
        "papermill": {
          "duration": 0.038321,
          "end_time": "2021-12-26T14:29:56.223708",
          "exception": false,
          "start_time": "2021-12-26T14:29:56.185387",
          "status": "completed"
        },
        "tags": [],
        "id": "cb140283"
      },
      "outputs": [],
      "source": [
        "preds=pipe.predict(X_test)"
      ]
    },
    {
      "cell_type": "markdown",
      "id": "97893b4e",
      "metadata": {
        "papermill": {
          "duration": 0.016399,
          "end_time": "2021-12-26T14:29:56.256241",
          "exception": false,
          "start_time": "2021-12-26T14:29:56.239842",
          "status": "completed"
        },
        "tags": [],
        "id": "97893b4e"
      },
      "source": [
        "## ix) Creating Pickle Files for DataFrame and Pipeline"
      ]
    },
    {
      "cell_type": "code",
      "execution_count": null,
      "id": "0474ec54",
      "metadata": {
        "execution": {
          "iopub.execute_input": "2021-12-26T14:29:56.294892Z",
          "iopub.status.busy": "2021-12-26T14:29:56.294177Z",
          "iopub.status.idle": "2021-12-26T14:29:56.299240Z",
          "shell.execute_reply": "2021-12-26T14:29:56.298743Z",
          "shell.execute_reply.started": "2021-12-26T14:27:46.127605Z"
        },
        "papermill": {
          "duration": 0.026584,
          "end_time": "2021-12-26T14:29:56.299346",
          "exception": false,
          "start_time": "2021-12-26T14:29:56.272762",
          "status": "completed"
        },
        "tags": [],
        "id": "0474ec54"
      },
      "outputs": [],
      "source": [
        "pickle.dump(df,open('df.pkl','wb'))\n",
        "pickle.dump(pipe,open('pipe.pkl','wb'))"
      ]
    },
    {
      "cell_type": "code",
      "execution_count": null,
      "id": "d2e05b05",
      "metadata": {
        "papermill": {
          "duration": 0.015945,
          "end_time": "2021-12-26T14:29:56.489873",
          "exception": false,
          "start_time": "2021-12-26T14:29:56.473928",
          "status": "completed"
        },
        "tags": [],
        "id": "d2e05b05"
      },
      "outputs": [],
      "source": []
    }
  ],
  "metadata": {
    "kernelspec": {
      "display_name": "Python 3",
      "language": "python",
      "name": "python3"
    },
    "language_info": {
      "codemirror_mode": {
        "name": "ipython",
        "version": 3
      },
      "file_extension": ".py",
      "mimetype": "text/x-python",
      "name": "python",
      "nbconvert_exporter": "python",
      "pygments_lexer": "ipython3",
      "version": "3.7.12"
    },
    "papermill": {
      "default_parameters": {},
      "duration": 14.45175,
      "end_time": "2021-12-26T14:29:57.416407",
      "environment_variables": {},
      "exception": null,
      "input_path": "__notebook__.ipynb",
      "output_path": "__notebook__.ipynb",
      "parameters": {},
      "start_time": "2021-12-26T14:29:42.964657",
      "version": "2.3.3"
    },
    "colab": {
      "provenance": [],
      "include_colab_link": true
    }
  },
  "nbformat": 4,
  "nbformat_minor": 5
}